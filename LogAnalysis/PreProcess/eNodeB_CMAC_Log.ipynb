{
 "cells": [
  {
   "cell_type": "code",
   "execution_count": 9,
   "metadata": {},
   "outputs": [
    {
     "name": "stderr",
     "output_type": "stream",
     "text": [
      "D:\\anaconda3\\lib\\site-packages\\ipykernel_launcher.py:38: ParserWarning: Falling back to the 'python' engine because the 'c' engine does not support regex separators (separators > 1 char and different from '\\s+' are interpreted as regex); you can avoid this warning by specifying engine='python'.\n"
     ]
    }
   ],
   "source": [
    "#导入模块\n",
    "import pandas as pd\n",
    "import re\n",
    "import time\n",
    "\n",
    "#路径地址\n",
    "FilePath = r\"d:/data/\"\n",
    "OriginFile = FilePath + r\"BPN_3_40_multi_80_PBH_00_0_output.txt\"\n",
    "FixedCSV = FilePath + r\"Fixed.csv\"\n",
    "ErrorFile = FilePath + r\"Error.txt\"\n",
    "LogOutput = FilePath + r\"LogOutput.xlsx\"\n",
    "\n",
    "time1 = time.time()\n",
    "#读取文本转换成不存在歧义的CSV\n",
    "with open(OriginFile, 'r') as f, open(FixedCSV, \"w\") as csv, open(ErrorFile, \"w\") as txt:\n",
    "    a = True\n",
    "    csv.write(\"\")\n",
    "    while a != [\"\"]:\n",
    "        a = f.readline()\n",
    "        a = a.split(\"  \")\n",
    "        try:\n",
    "            a[8]=\"\".join(a[8:])\n",
    "            csv.write(\";;;;\".join(a[0:9]))\n",
    "        except:\n",
    "            txt.write(\";;;;\".join(a))\n",
    "\n",
    "time2 = time.time()\n",
    "#文本匹配符\n",
    "re_I = re.compile(r\"\\[I\\]\")\n",
    "re_U = re.compile(r\"\\[U\\]\")\n",
    "re_D = re.compile(r\"\\[D\\]\")\n",
    "re_RA = re.compile(r\"\\[RA\\]\")\n",
    "re_TOOL = re.compile(r\"\\[TOOL\\]\")\n",
    "re_MSG = re.compile(r\"MSG\")\n",
    "\n",
    "time3 = time.time()\n",
    "#读取CSV分割字段\n",
    "df_log = pd.read_csv(FixedCSV, sep=\";;;;\", header=None)\n",
    "DateTime = df_log.loc[:,0]\n",
    "Sequence = df_log.loc[:,1]\n",
    "LogSpace = df_log.loc[:,2]\n",
    "PriClass = df_log.loc[:,3]\n",
    "interHSFN = [eval(i)[0] for i in list(df_log.loc[:,4])]\n",
    "sysHSFN = [i[1:-1].split(\".\")[0] for i in list(df_log.loc[:,5])]\n",
    "SysFraNum = [i[1:-1].split(\".\")[1] for i in list(df_log.loc[:,5])]\n",
    "SysSubFN = [i[1:-1].split(\".\")[2] for i in list(df_log.loc[:,5])]\n",
    "PhyCellIdentifier = [i[1:-1].split(\":\")[0] for i in list(df_log.loc[:,6])]\n",
    "CELs = [i[1:-1].split(\":\")[2] for i in list(df_log.loc[:,6])]\n",
    "UEIndex = [i[1:-1].split(\":\")[0] for i in list(df_log.loc[:,7])]\n",
    "CRNTI = [i[1:-1].split(\":\")[1] for i in list(df_log.loc[:,7])]\n",
    "GID = [i[1:-1].split(\":\")[2] for i in list(df_log.loc[:,7])]\n",
    "Message = df_log.loc[:,8]\n",
    "\n",
    "time4 = time.time()\n",
    "#分割日志信息体进行标注\n",
    "I = [1 if re_I.match(i) else 0 for i in Message]\n",
    "U = [1 if re_U.match(i) else 0 for i in Message]\n",
    "D = [1 if re_D.match(i) else 0 for i in Message]\n",
    "TOOL = [1 if re_TOOL.match(i) else 0 for i in Message]\n",
    "RA = [1 if re_RA.search(i) else 0 for i in Message]\n",
    "MSG = [1 if re_MSG.search(i) else 0 for i in Message]\n",
    "\n",
    "df_log = pd.DataFrame({\"DateTime\":DateTime, \n",
    "                       \"Sequence\":Sequence,\n",
    "                       \"LogSpace\":LogSpace,\n",
    "                       \"PriClass\":PriClass,\n",
    "                       \"interHSFN\":interHSFN,\n",
    "                       \"sysHSFN\":sysHSFN,\n",
    "                       \"SysFraNum\":SysFraNum,\n",
    "                       \"SysSubFN\":SysSubFN,\n",
    "                       \"PhyCellIdentifier\":PhyCellIdentifier,\n",
    "                       \"CELs\":CELs,\n",
    "                       \"UEIndex\":UEIndex,\n",
    "                       \"CRNTI\":CRNTI,\n",
    "                       \"GID\":GID,\n",
    "                       \"I\":I,\n",
    "                       \"U\":U,\n",
    "                       \"D\":D,\n",
    "                       \"TOOL\":TOOL,\n",
    "                       \"RA\":RA,\n",
    "                       \"MSG\":MSG,\n",
    "                       \"Message\":Message\n",
    "                      })\n",
    "time5 = time.time()\n",
    "df_log.to_excel(LogOutput)\n",
    "time6 = time.time()\n",
    "RunTime = [time1, time2, time3, time4, time5, time6]"
   ]
  },
  {
   "cell_type": "code",
   "execution_count": 11,
   "metadata": {},
   "outputs": [
    {
     "data": {
      "text/plain": [
       "[1536214100.9786313,\n",
       " 1536214101.6496983,\n",
       " 1536214101.6496983,\n",
       " 1536214103.6699002,\n",
       " 1536214104.1539488,\n",
       " 1536214163.453878]"
      ]
     },
     "execution_count": 11,
     "metadata": {},
     "output_type": "execute_result"
    }
   ],
   "source": [
    "RunTime "
   ]
  },
  {
   "cell_type": "code",
   "execution_count": 80,
   "metadata": {},
   "outputs": [],
   "source": [
    "df_log[df_log.TOOL==1].to_excel(\"d:/output.xlsx\")"
   ]
  }
 ],
 "metadata": {
  "kernelspec": {
   "display_name": "Python 3",
   "language": "python",
   "name": "python3"
  },
  "language_info": {
   "codemirror_mode": {
    "name": "ipython",
    "version": 3
   },
   "file_extension": ".py",
   "mimetype": "text/x-python",
   "name": "python",
   "nbconvert_exporter": "python",
   "pygments_lexer": "ipython3",
   "version": "3.6.5"
  }
 },
 "nbformat": 4,
 "nbformat_minor": 2
}
