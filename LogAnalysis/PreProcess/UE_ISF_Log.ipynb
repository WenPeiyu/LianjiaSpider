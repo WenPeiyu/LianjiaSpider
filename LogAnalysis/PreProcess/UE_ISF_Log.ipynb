{
 "cells": [
  {
   "cell_type": "code",
   "execution_count": 163,
   "metadata": {},
   "outputs": [],
   "source": [
    "#模块导入\n",
    "import pandas as pd \n",
    "import re \n",
    "\n",
    "#文件路径\n",
    "FilePath = r\"d:/data/\"\n",
    "OriginFile = FilePath + r\"UE2LOG.txt\"\n",
    "UELogFixed = FilePath + r\"UELogOutput.xlsx\"\n",
    "\n",
    "#文本匹配符\n",
    "re_Date = r\"(\\d{4}\\s\\w{3,4}\\s{2}\\d\\s{2}\\d{2}\\:\\d{2}\\:\\d{2}\\.\\d{3})\"\n",
    "\n",
    "#读取文本日志并进行匹配分割\n",
    "with open(OriginFile, \"r\") as rf:\n",
    "    a = rf.read()\n",
    "list_log = re.split(re_Date,a)\n",
    "\n",
    "#分割字段提取packet中具体信息\n",
    "DateTime = list_log[1::2]\n",
    "list_log = list_log[2::2]\n",
    "Unknown1 = [re.search(r\"\\[\\w{2}\\]\", i).group() for i in list_log]\n",
    "Type = [re.search(r\"0x\\w{4}\", i).group() for i in list_log]\n",
    "Description = [re.search(r\"(?<=0x\\w{4}  ).+(?=\\n)\", i).group() for i in list_log]\n",
    "Length = [eval(re.search(r\"(?<=Length:)\\s*\\d*(?=\\n)\", i).group()) for i in list_log]\n",
    "Header = [re.search(r\"(?<=Header:).*(?=\\n)\", i).group()[2:-1] for i in list_log]\n",
    "Payload = [(i[re.search(r\"(?<=Payload:).*(?=\\n)\", i).span()[0]:]).split(\"Payload:\")[-1].replace(\"\\n\",\"\").\n",
    "           replace(\"\\t\",\"\").replace(\"         \",\"\")[1:-1] for i in list_log]\n",
    "Message = [\"\".join(re.split((r\"(\\n)\"),re.search(r\".*(?=\\n\\tLength:)\", i, re.DOTALL).group())[2:]) for i in list_log]\n",
    "\n",
    "df_log = pd.DataFrame({\"DateTime\":DateTime,\n",
    "                       \"Unknown1\":Unknown1,\n",
    "                       \"Type\":Type,\n",
    "                       \"Description\":Description,\n",
    "                       \"Length\":Length,\n",
    "                       \"Header\":Header,\n",
    "                       \"Payload\":Payload,\n",
    "                       \"Message\":Message})\n",
    "df_log.to_excel(UELogFixed)"
   ]
  }
 ],
 "metadata": {
  "kernelspec": {
   "display_name": "Python 3",
   "language": "python",
   "name": "python3"
  },
  "language_info": {
   "codemirror_mode": {
    "name": "ipython",
    "version": 3
   },
   "file_extension": ".py",
   "mimetype": "text/x-python",
   "name": "python",
   "nbconvert_exporter": "python",
   "pygments_lexer": "ipython3",
   "version": "3.6.5"
  }
 },
 "nbformat": 4,
 "nbformat_minor": 2
}
