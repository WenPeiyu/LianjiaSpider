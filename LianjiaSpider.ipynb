{
 "cells": [
  {
   "cell_type": "code",
   "execution_count": 3,
   "metadata": {},
   "outputs": [
    {
     "name": "stdout",
     "output_type": "stream",
     "text": [
      "Fetched the https://sh.lianjia.com/chengjiao/\n",
      "Fetched the https://sh.lianjia.com/chengjiao/pudong/\n",
      "Fetched the https://sh.lianjia.com/chengjiao/minhang/\n",
      "Fetched the https://sh.lianjia.com/chengjiao/baoshan/\n",
      "Fetched the https://sh.lianjia.com/chengjiao/xuhui/\n",
      "Fetched the https://sh.lianjia.com/chengjiao/putuo/\n",
      "Fetched the https://sh.lianjia.com/chengjiao/yangpu/\n",
      "Fetched the https://sh.lianjia.com/chengjiao/changning/\n",
      "Fetched the https://sh.lianjia.com/chengjiao/songjiang/\n",
      "Fetched the https://sh.lianjia.com/chengjiao/jiading/\n",
      "Fetched the https://sh.lianjia.com/chengjiao/huangpu/\n",
      "Fetched the https://sh.lianjia.com/chengjiao/jingan/\n",
      "Fetched the https://sh.lianjia.com/chengjiao/zhabei/\n",
      "Fetched the https://sh.lianjia.com/chengjiao/hongkou/\n",
      "Fetched the https://sh.lianjia.com/chengjiao/qingpu/\n",
      "Fetched the https://sh.lianjia.com/chengjiao/fengxian/\n",
      "Fetched the https://sh.lianjia.com/chengjiao/jinshan/\n",
      "Fetched the https://sh.lianjia.com/chengjiao/chongming/\n",
      "Fetched the https://sh.lianjia.com/chengjiao/shanghaizhoubian/\n"
     ]
    }
   ],
   "source": [
    "#网页模式抓取二手房成交记录\n",
    "import requests\n",
    "from bs4 import BeautifulSoup\n",
    "import pandas as pd\n",
    "import re\n",
    "import time\n",
    "import os\n",
    "\n",
    "OriginURL = r\"https://sh.lianjia.com/chengjiao/\"\n",
    "Header ={\n",
    "\"Host\": \"sh.lianjia.com\",\n",
    "\"Connection\": \"keep-alive\",\n",
    "\"User-Agent\": \"Mozilla/5.0 (Windows NT 6.1; WOW64) AppleWebKit/537.36 (KHTML, like Gecko) Chrome/68.0.3440.106 Safari/537.36\",\n",
    "\"Accept\": \"image/webp,image/apng,image/*,*/*;q=0.8\",\n",
    "\"Accept-Encoding\": \"gzip, deflate, br\",\n",
    "\"Accept-Language\": \"zh-CN,zh;q=0.9\"}\n",
    "\n",
    "\n",
    "def get_block_list(url):\n",
    "    _connection = requests.get(url)\n",
    "    _BS = BeautifulSoup(_connection.text, \"lxml\")\n",
    "    _BlockListOrigin = _BS.find(\"div\", class_=\"position\").find_all(\"a\", href=re.compile(\"/chengjiao/\\w+/\"), rel=False)\n",
    "    _BlockList = [\"https://sh.lianjia.com\" + i[\"href\"] for i in _BlockListOrigin]\n",
    "    return _BlockList\n",
    "\n",
    "\n",
    "def get_block_list_of_a_city(url):\n",
    "    _BlockList = []\n",
    "    _connection = requests.get(url)\n",
    "    _BS = BeautifulSoup(_connection.text, \"lxml\")\n",
    "    _DistrictListOrigin = _BS.find_all(\"a\", href=re.compile(\"/chengjiao/\\w+/\"), title=re.compile(\"上海\"))\n",
    "    _DistrictList = [\"https://sh.lianjia.com\" + i[\"href\"] for i in _DistrictListOrigin]\n",
    "    print(\"Fetched the {}\".format(url))\n",
    "    for i in _DistrictList:\n",
    "        templist = get_block_list(i)\n",
    "        _BlockList = _BlockList + templist\n",
    "        print(\"Fetched the {}\".format(i))\n",
    "    _BlockList = set(_BlockList)-set(_DistrictList)\n",
    "    return _BlockList\n",
    "\n",
    "\n",
    "def save_file(data, filename, path=os.getcwd(), filetype=\"txt\"):\n",
    "    \"\"\"\n",
    "\n",
    "    :param data:\n",
    "    :param filename:\n",
    "    :param path:\n",
    "    :param filetype:\n",
    "    :return:\n",
    "    \"\"\"\n",
    "    if filetype == 'txt':\n",
    "        with open(\"{0}/{1}\".format(path, filename), \"w\") as f:\n",
    "            for i in data:\n",
    "                f.write(\"{}\\n\".format(i))\n",
    "                \n",
    "                \n",
    "save_file(get_block_list_of_a_city(OriginURL),\"BlockList.txt\")"
   ]
  },
  {
   "cell_type": "code",
   "execution_count": 69,
   "metadata": {},
   "outputs": [
    {
     "name": "stdout",
     "output_type": "stream",
     "text": [
      "https://ajax.lianjia.com/map/search/ershoufang/?city_id=310000&group_type=bizcircle&max_lat=31.215162&min_lat=31.135162&max_lng=121.493899&min_lng=121.413899&filters=%7B%7D&request_ts=1537259964696&source=ljpc&authorization=d267d6d27cf478c708a1400b03b9edeb\n"
     ]
    }
   ],
   "source": [
    "#API方式地图抓取\n",
    "import json\n",
    "import time\n",
    "import hashlib\n",
    "import requests\n",
    "\n",
    "group_type = {\n",
    "    \"district\":0.3,     #行政区\n",
    "    \"bizcircle\":0.08,    #商圈\n",
    "    \"community\":0.01     #居民小区\n",
    "}\n",
    "b= {\"city_id\": \"310000\",\n",
    "     \"group_type\": \"bizcircle\",\n",
    "     \"max_lat\": round(31.21516171001514, 6),\n",
    "     \"min_lat\": round(31.21516171001514, 6) - 0.08,\n",
    "     \"max_lng\": round(121.49389948569473, 6),\n",
    "     \"min_lng\": round(121.49389948569473, 6) - 0.08,\n",
    "   }\n",
    "\n",
    "def get_md5(txt):\n",
    "    \"\"\"md5加密函数\"\"\"\n",
    "    m = hashlib.md5()\n",
    "    m.update(txt.encode('utf-8'))\n",
    "    return m.hexdigest()\n",
    "\n",
    "def get_line_site(url):\n",
    "    \"\"\"请求链接\"\"\"\n",
    "    headers = {'Accept': '*/*',\n",
    "               'Accept-Encoding': 'gzip, deflate, br',\n",
    "               'Accept-Language': 'zh-CN,zh;q=0.9',\n",
    "               'Connection': 'keep-alive',\n",
    "               'Host': 'ajax.lianjia.com',\n",
    "               'Referer': 'https://gz.lianjia.com/ditu/',\n",
    "               'User-Agent': 'Mozilla/5.0 (Windows NT 6.1; Win64; x64) AppleWebKit/537.36 '\n",
    "                             '(KHTML, like Gecko) Chrome/66.0.3359.181 Safari/537.36'}\n",
    "    r = requests.get(url, headers=headers)\n",
    "    return r\n",
    "\n",
    "def get_url(bbb):\n",
    "    \"\"\"拼接链接\"\"\"\n",
    "    url =\"https://ajax.lianjia.com/map/search/ershoufang/?city_id={city_id}&group_type={group_type}&\" \\\n",
    "         \"max_lat={max_lat}&min_lat={min_lat}&max_lng={max_lng}&min_lng={min_lng}&\" \\\n",
    "         \"filters=%7B%7D&request_ts={request_ts}&source=ljpc&\" \\\n",
    "         \"authorization={authorization}\"\n",
    "    request_ts = int(time.time() * 1000)\n",
    "    md5_data = \"vfkpbin1ix2rb88gfjebs0f60cbvhedlcity_id={city_id}group_type={group_type}max_lat={max_lat}\" \\\n",
    "             \"max_lng={max_lng}min_lat={min_lat}min_lng={min_lng}request_ts={request_ts}\".format(\n",
    "        city_id=bbb[\"city_id\"],\n",
    "        group_type=bbb[\"group_type\"],\n",
    "        max_lat=bbb[\"max_lat\"],\n",
    "        max_lng=bbb[\"max_lng\"],\n",
    "        min_lat=bbb[\"min_lat\"],\n",
    "        min_lng=bbb[\"min_lng\"],\n",
    "        request_ts=request_ts)\n",
    "    authorization = get_md5(md5_data)\n",
    "    url = url.format(request_ts=request_ts, authorization=authorization,city_id=bbb[\"city_id\"],\n",
    "        group_type=bbb[\"group_type\"],\n",
    "        max_lat=bbb[\"max_lat\"],\n",
    "        max_lng=bbb[\"max_lng\"],\n",
    "        min_lat=bbb[\"min_lat\"],\n",
    "        min_lng=bbb[\"min_lng\"])\n",
    "    return url\n",
    "\n",
    "def getres(bb):\n",
    "    line_url = get_url(bb)\n",
    "    print(line_url)\n",
    "    res = get_line_site(line_url)\n",
    "    items = res.json()['data']\n",
    "    return items \n",
    "\n",
    "getres(b)\n"
   ]
  },
  {
   "cell_type": "code",
   "execution_count": 4,
   "metadata": {},
   "outputs": [
    {
     "data": {
      "text/plain": [
       "{'lng': 116.39564503787867, 'lat': 39.92998577808024}"
      ]
     },
     "execution_count": 4,
     "metadata": {},
     "output_type": "execute_result"
    }
   ],
   "source": [
    "#获取城市纬度\n",
    "import json\n",
    "\n",
    "ak = \"dASz7ubuSpHidP1oQWKuAK3q\"\n",
    "def getCor(city):\n",
    "    url = \"http://api.map.baidu.com/geocoder/v2/?address={city}&output=json&ak={ak}\".format(city=city,ak=ak)\n",
    "    res = requests.get(url).json()[\"result\"][\"location\"]\n",
    "    return res\n",
    "\n",
    "def getCode(city):\n",
    "    Cor = getCor(city)\n",
    "    url2 = \"http://api.map.baidu.com/geocoder/v2/?location={lat},{lng}&output=json&pois=1&ak={ak}\".format(lat=Cor[\"lat\"], lng=Cor[\"lng\"],ak=ak)\n",
    "    print(url2)\n",
    "    res = requests.get(url2).json()\n",
    "    return res\n",
    "\n",
    "getCor(\"北京\")\n",
    "    "
   ]
  },
  {
   "cell_type": "code",
   "execution_count": 51,
   "metadata": {},
   "outputs": [],
   "source": [
    "#生成城市列表\n",
    "import requests\n",
    "import re\n",
    "import pandas as pd\n",
    "from bs4 import BeautifulSoup\n",
    "\n",
    "res = requests.get(\"https://sh.lianjia.com/city/\")\n",
    "work = BeautifulSoup(res.text, \"lxml\")\n",
    "res = set([(i[\"href\"], i.string) for i in work.find_all(\"a\",href=re.compile(r\"(?<=https://)\\w+(?=\\.lianjia.com/)\"),target=False)][:-1])\n",
    "citycodemapping = pd.read_csv(r\"C:\\Users\\wenpeiyu\\Desktop\\citycodemapping.csv\")\n",
    "dfcitylist = pd.DataFrame({\n",
    "    \"city\": [i[1] for i in res],\n",
    "    \"city_url\": [i[0] for i in res]})\n",
    "dfCityList = pd.merge(dfcitylist,citycodemapping,how=\"inner\",on=[\"city\"])\n",
    "lng = [getCor(i+\"市\")['lng'] for i in dfCityList.city]\n",
    "lat = [getCor(i+\"市\")['lat'] for i in dfCityList.city]\n",
    "minlng = [i-0.3 for i in lng]\n",
    "minlat = [i-0.3 for i in lat]\n",
    "city = [i for i in dfCityList.city]\n",
    "dfCityCor = pd.DataFrame({\n",
    "    \"city\": city,\n",
    "    \"max_lat\": lat,\n",
    "    \"max_lng\": lng,\n",
    "    \"min_lat\": minlat,\n",
    "    \"min_lng\": minlng\n",
    "})\n",
    "dfCityList = pd.merge(dfCityList,dfCityCor,how=\"inner\",on=[\"city\"])\n",
    "dfCityList = dfCityList.rename(columns={\"citycode\":\"city_id\"})\n",
    "dfCityList.to_csv(r\".\\etc\\CityList.csv\", index=False)"
   ]
  },
  {
   "cell_type": "code",
   "execution_count": 61,
   "metadata": {},
   "outputs": [],
   "source": [
    "round(dfCityList,6)"
   ]
  },
  {
   "cell_type": "code",
   "execution_count": 62,
   "metadata": {},
   "outputs": [],
   "source": [
    "tempdict ={}\n",
    "for i in dfCityList.index:\n",
    "    tempdict[dfCityList.loc[i,\"city\"]]=dict(dfCityList.loc[i,[\"city_url\",\"city_id\",\"max_lat\",\"max_lng\",\"min_lat\",\"min_lng\"]])"
   ]
  },
  {
   "cell_type": "code",
   "execution_count": 65,
   "metadata": {},
   "outputs": [
    {
     "data": {
      "text/plain": [
       "True"
      ]
     },
     "execution_count": 65,
     "metadata": {},
     "output_type": "execute_result"
    }
   ],
   "source": [
    "\"上海\" in tempdict"
   ]
  },
  {
   "cell_type": "code",
   "execution_count": 17,
   "metadata": {},
   "outputs": [
    {
     "name": "stdout",
     "output_type": "stream",
     "text": [
      "Error:  HTTPConnectionPool(host='120.27.9.96', port=80): Read timed out. (read timeout=5)\n"
     ]
    },
    {
     "ename": "KeyboardInterrupt",
     "evalue": "",
     "output_type": "error",
     "traceback": [
      "\u001b[1;31m---------------------------------------------------------------------------\u001b[0m",
      "\u001b[1;31mTypeError\u001b[0m                                 Traceback (most recent call last)",
      "\u001b[1;32mD:\\Anaconda3\\lib\\site-packages\\urllib3\\connectionpool.py\u001b[0m in \u001b[0;36m_make_request\u001b[1;34m(self, conn, method, url, timeout, chunked, **httplib_request_kw)\u001b[0m\n\u001b[0;32m    379\u001b[0m             \u001b[1;32mtry\u001b[0m\u001b[1;33m:\u001b[0m  \u001b[1;31m# Python 2.7, use buffering of HTTP responses\u001b[0m\u001b[1;33m\u001b[0m\u001b[0m\n\u001b[1;32m--> 380\u001b[1;33m                 \u001b[0mhttplib_response\u001b[0m \u001b[1;33m=\u001b[0m \u001b[0mconn\u001b[0m\u001b[1;33m.\u001b[0m\u001b[0mgetresponse\u001b[0m\u001b[1;33m(\u001b[0m\u001b[0mbuffering\u001b[0m\u001b[1;33m=\u001b[0m\u001b[1;32mTrue\u001b[0m\u001b[1;33m)\u001b[0m\u001b[1;33m\u001b[0m\u001b[0m\n\u001b[0m\u001b[0;32m    381\u001b[0m             \u001b[1;32mexcept\u001b[0m \u001b[0mTypeError\u001b[0m\u001b[1;33m:\u001b[0m  \u001b[1;31m# Python 2.6 and older, Python 3\u001b[0m\u001b[1;33m\u001b[0m\u001b[0m\n",
      "\u001b[1;31mTypeError\u001b[0m: getresponse() got an unexpected keyword argument 'buffering'",
      "\nDuring handling of the above exception, another exception occurred:\n",
      "\u001b[1;31mKeyboardInterrupt\u001b[0m                         Traceback (most recent call last)",
      "\u001b[1;32m<ipython-input-17-a3b4f78b3e14>\u001b[0m in \u001b[0;36m<module>\u001b[1;34m()\u001b[0m\n\u001b[0;32m     27\u001b[0m         \u001b[0mprint\u001b[0m\u001b[1;33m(\u001b[0m\u001b[1;34m\"Error: \"\u001b[0m\u001b[1;33m,\u001b[0m \u001b[0me\u001b[0m\u001b[1;33m)\u001b[0m\u001b[1;33m\u001b[0m\u001b[0m\n\u001b[0;32m     28\u001b[0m \u001b[1;32mwhile\u001b[0m \u001b[1;32mTrue\u001b[0m\u001b[1;33m:\u001b[0m\u001b[1;33m\u001b[0m\u001b[0m\n\u001b[1;32m---> 29\u001b[1;33m     \u001b[0mq\u001b[0m\u001b[1;33m(\u001b[0m\u001b[1;33m)\u001b[0m\u001b[1;33m\u001b[0m\u001b[0m\n\u001b[0m",
      "\u001b[1;32m<ipython-input-17-a3b4f78b3e14>\u001b[0m in \u001b[0;36mq\u001b[1;34m()\u001b[0m\n\u001b[0;32m     22\u001b[0m     \u001b[0murl\u001b[0m \u001b[1;33m=\u001b[0m \u001b[1;34m'http://myip.ipip.net'\u001b[0m\u001b[1;33m\u001b[0m\u001b[0m\n\u001b[0;32m     23\u001b[0m     \u001b[1;32mtry\u001b[0m\u001b[1;33m:\u001b[0m\u001b[1;33m\u001b[0m\u001b[0m\n\u001b[1;32m---> 24\u001b[1;33m         \u001b[0mtext\u001b[0m \u001b[1;33m=\u001b[0m \u001b[0mrequests\u001b[0m\u001b[1;33m.\u001b[0m\u001b[0mget\u001b[0m\u001b[1;33m(\u001b[0m\u001b[0murl\u001b[0m\u001b[1;33m,\u001b[0m\u001b[0mproxies\u001b[0m\u001b[1;33m=\u001b[0m\u001b[0mproxy\u001b[0m\u001b[1;33m,\u001b[0m\u001b[0mtimeout\u001b[0m\u001b[1;33m=\u001b[0m\u001b[1;36m5\u001b[0m\u001b[1;33m,\u001b[0m\u001b[0mheaders\u001b[0m\u001b[1;33m=\u001b[0m\u001b[0mhead\u001b[0m\u001b[1;33m)\u001b[0m\u001b[1;31m#, proxies=proxy ,timeout=5)\u001b[0m\u001b[1;33m\u001b[0m\u001b[0m\n\u001b[0m\u001b[0;32m     25\u001b[0m         \u001b[0mprint\u001b[0m\u001b[1;33m(\u001b[0m\u001b[0mtext\u001b[0m\u001b[1;33m.\u001b[0m\u001b[0mtext\u001b[0m\u001b[1;33m)\u001b[0m\u001b[1;33m\u001b[0m\u001b[0m\n\u001b[0;32m     26\u001b[0m     \u001b[1;32mexcept\u001b[0m \u001b[0mException\u001b[0m \u001b[1;32mas\u001b[0m \u001b[0me\u001b[0m\u001b[1;33m:\u001b[0m\u001b[1;33m\u001b[0m\u001b[0m\n",
      "\u001b[1;32mD:\\Anaconda3\\lib\\site-packages\\requests\\api.py\u001b[0m in \u001b[0;36mget\u001b[1;34m(url, params, **kwargs)\u001b[0m\n\u001b[0;32m     70\u001b[0m \u001b[1;33m\u001b[0m\u001b[0m\n\u001b[0;32m     71\u001b[0m     \u001b[0mkwargs\u001b[0m\u001b[1;33m.\u001b[0m\u001b[0msetdefault\u001b[0m\u001b[1;33m(\u001b[0m\u001b[1;34m'allow_redirects'\u001b[0m\u001b[1;33m,\u001b[0m \u001b[1;32mTrue\u001b[0m\u001b[1;33m)\u001b[0m\u001b[1;33m\u001b[0m\u001b[0m\n\u001b[1;32m---> 72\u001b[1;33m     \u001b[1;32mreturn\u001b[0m \u001b[0mrequest\u001b[0m\u001b[1;33m(\u001b[0m\u001b[1;34m'get'\u001b[0m\u001b[1;33m,\u001b[0m \u001b[0murl\u001b[0m\u001b[1;33m,\u001b[0m \u001b[0mparams\u001b[0m\u001b[1;33m=\u001b[0m\u001b[0mparams\u001b[0m\u001b[1;33m,\u001b[0m \u001b[1;33m**\u001b[0m\u001b[0mkwargs\u001b[0m\u001b[1;33m)\u001b[0m\u001b[1;33m\u001b[0m\u001b[0m\n\u001b[0m\u001b[0;32m     73\u001b[0m \u001b[1;33m\u001b[0m\u001b[0m\n\u001b[0;32m     74\u001b[0m \u001b[1;33m\u001b[0m\u001b[0m\n",
      "\u001b[1;32mD:\\Anaconda3\\lib\\site-packages\\requests\\api.py\u001b[0m in \u001b[0;36mrequest\u001b[1;34m(method, url, **kwargs)\u001b[0m\n\u001b[0;32m     56\u001b[0m     \u001b[1;31m# cases, and look like a memory leak in others.\u001b[0m\u001b[1;33m\u001b[0m\u001b[1;33m\u001b[0m\u001b[0m\n\u001b[0;32m     57\u001b[0m     \u001b[1;32mwith\u001b[0m \u001b[0msessions\u001b[0m\u001b[1;33m.\u001b[0m\u001b[0mSession\u001b[0m\u001b[1;33m(\u001b[0m\u001b[1;33m)\u001b[0m \u001b[1;32mas\u001b[0m \u001b[0msession\u001b[0m\u001b[1;33m:\u001b[0m\u001b[1;33m\u001b[0m\u001b[0m\n\u001b[1;32m---> 58\u001b[1;33m         \u001b[1;32mreturn\u001b[0m \u001b[0msession\u001b[0m\u001b[1;33m.\u001b[0m\u001b[0mrequest\u001b[0m\u001b[1;33m(\u001b[0m\u001b[0mmethod\u001b[0m\u001b[1;33m=\u001b[0m\u001b[0mmethod\u001b[0m\u001b[1;33m,\u001b[0m \u001b[0murl\u001b[0m\u001b[1;33m=\u001b[0m\u001b[0murl\u001b[0m\u001b[1;33m,\u001b[0m \u001b[1;33m**\u001b[0m\u001b[0mkwargs\u001b[0m\u001b[1;33m)\u001b[0m\u001b[1;33m\u001b[0m\u001b[0m\n\u001b[0m\u001b[0;32m     59\u001b[0m \u001b[1;33m\u001b[0m\u001b[0m\n\u001b[0;32m     60\u001b[0m \u001b[1;33m\u001b[0m\u001b[0m\n",
      "\u001b[1;32mD:\\Anaconda3\\lib\\site-packages\\requests\\sessions.py\u001b[0m in \u001b[0;36mrequest\u001b[1;34m(self, method, url, params, data, headers, cookies, files, auth, timeout, allow_redirects, proxies, hooks, stream, verify, cert, json)\u001b[0m\n\u001b[0;32m    506\u001b[0m         }\n\u001b[0;32m    507\u001b[0m         \u001b[0msend_kwargs\u001b[0m\u001b[1;33m.\u001b[0m\u001b[0mupdate\u001b[0m\u001b[1;33m(\u001b[0m\u001b[0msettings\u001b[0m\u001b[1;33m)\u001b[0m\u001b[1;33m\u001b[0m\u001b[0m\n\u001b[1;32m--> 508\u001b[1;33m         \u001b[0mresp\u001b[0m \u001b[1;33m=\u001b[0m \u001b[0mself\u001b[0m\u001b[1;33m.\u001b[0m\u001b[0msend\u001b[0m\u001b[1;33m(\u001b[0m\u001b[0mprep\u001b[0m\u001b[1;33m,\u001b[0m \u001b[1;33m**\u001b[0m\u001b[0msend_kwargs\u001b[0m\u001b[1;33m)\u001b[0m\u001b[1;33m\u001b[0m\u001b[0m\n\u001b[0m\u001b[0;32m    509\u001b[0m \u001b[1;33m\u001b[0m\u001b[0m\n\u001b[0;32m    510\u001b[0m         \u001b[1;32mreturn\u001b[0m \u001b[0mresp\u001b[0m\u001b[1;33m\u001b[0m\u001b[0m\n",
      "\u001b[1;32mD:\\Anaconda3\\lib\\site-packages\\requests\\sessions.py\u001b[0m in \u001b[0;36msend\u001b[1;34m(self, request, **kwargs)\u001b[0m\n\u001b[0;32m    616\u001b[0m \u001b[1;33m\u001b[0m\u001b[0m\n\u001b[0;32m    617\u001b[0m         \u001b[1;31m# Send the request\u001b[0m\u001b[1;33m\u001b[0m\u001b[1;33m\u001b[0m\u001b[0m\n\u001b[1;32m--> 618\u001b[1;33m         \u001b[0mr\u001b[0m \u001b[1;33m=\u001b[0m \u001b[0madapter\u001b[0m\u001b[1;33m.\u001b[0m\u001b[0msend\u001b[0m\u001b[1;33m(\u001b[0m\u001b[0mrequest\u001b[0m\u001b[1;33m,\u001b[0m \u001b[1;33m**\u001b[0m\u001b[0mkwargs\u001b[0m\u001b[1;33m)\u001b[0m\u001b[1;33m\u001b[0m\u001b[0m\n\u001b[0m\u001b[0;32m    619\u001b[0m \u001b[1;33m\u001b[0m\u001b[0m\n\u001b[0;32m    620\u001b[0m         \u001b[1;31m# Total elapsed time of the request (approximately)\u001b[0m\u001b[1;33m\u001b[0m\u001b[1;33m\u001b[0m\u001b[0m\n",
      "\u001b[1;32mD:\\Anaconda3\\lib\\site-packages\\requests\\adapters.py\u001b[0m in \u001b[0;36msend\u001b[1;34m(self, request, stream, timeout, verify, cert, proxies)\u001b[0m\n\u001b[0;32m    438\u001b[0m                     \u001b[0mdecode_content\u001b[0m\u001b[1;33m=\u001b[0m\u001b[1;32mFalse\u001b[0m\u001b[1;33m,\u001b[0m\u001b[1;33m\u001b[0m\u001b[0m\n\u001b[0;32m    439\u001b[0m                     \u001b[0mretries\u001b[0m\u001b[1;33m=\u001b[0m\u001b[0mself\u001b[0m\u001b[1;33m.\u001b[0m\u001b[0mmax_retries\u001b[0m\u001b[1;33m,\u001b[0m\u001b[1;33m\u001b[0m\u001b[0m\n\u001b[1;32m--> 440\u001b[1;33m                     \u001b[0mtimeout\u001b[0m\u001b[1;33m=\u001b[0m\u001b[0mtimeout\u001b[0m\u001b[1;33m\u001b[0m\u001b[0m\n\u001b[0m\u001b[0;32m    441\u001b[0m                 )\n\u001b[0;32m    442\u001b[0m \u001b[1;33m\u001b[0m\u001b[0m\n",
      "\u001b[1;32mD:\\Anaconda3\\lib\\site-packages\\urllib3\\connectionpool.py\u001b[0m in \u001b[0;36murlopen\u001b[1;34m(self, method, url, body, headers, retries, redirect, assert_same_host, timeout, pool_timeout, release_conn, chunked, body_pos, **response_kw)\u001b[0m\n\u001b[0;32m    599\u001b[0m                                                   \u001b[0mtimeout\u001b[0m\u001b[1;33m=\u001b[0m\u001b[0mtimeout_obj\u001b[0m\u001b[1;33m,\u001b[0m\u001b[1;33m\u001b[0m\u001b[0m\n\u001b[0;32m    600\u001b[0m                                                   \u001b[0mbody\u001b[0m\u001b[1;33m=\u001b[0m\u001b[0mbody\u001b[0m\u001b[1;33m,\u001b[0m \u001b[0mheaders\u001b[0m\u001b[1;33m=\u001b[0m\u001b[0mheaders\u001b[0m\u001b[1;33m,\u001b[0m\u001b[1;33m\u001b[0m\u001b[0m\n\u001b[1;32m--> 601\u001b[1;33m                                                   chunked=chunked)\n\u001b[0m\u001b[0;32m    602\u001b[0m \u001b[1;33m\u001b[0m\u001b[0m\n\u001b[0;32m    603\u001b[0m             \u001b[1;31m# If we're going to release the connection in ``finally:``, then\u001b[0m\u001b[1;33m\u001b[0m\u001b[1;33m\u001b[0m\u001b[0m\n",
      "\u001b[1;32mD:\\Anaconda3\\lib\\site-packages\\urllib3\\connectionpool.py\u001b[0m in \u001b[0;36m_make_request\u001b[1;34m(self, conn, method, url, timeout, chunked, **httplib_request_kw)\u001b[0m\n\u001b[0;32m    381\u001b[0m             \u001b[1;32mexcept\u001b[0m \u001b[0mTypeError\u001b[0m\u001b[1;33m:\u001b[0m  \u001b[1;31m# Python 2.6 and older, Python 3\u001b[0m\u001b[1;33m\u001b[0m\u001b[0m\n\u001b[0;32m    382\u001b[0m                 \u001b[1;32mtry\u001b[0m\u001b[1;33m:\u001b[0m\u001b[1;33m\u001b[0m\u001b[0m\n\u001b[1;32m--> 383\u001b[1;33m                     \u001b[0mhttplib_response\u001b[0m \u001b[1;33m=\u001b[0m \u001b[0mconn\u001b[0m\u001b[1;33m.\u001b[0m\u001b[0mgetresponse\u001b[0m\u001b[1;33m(\u001b[0m\u001b[1;33m)\u001b[0m\u001b[1;33m\u001b[0m\u001b[0m\n\u001b[0m\u001b[0;32m    384\u001b[0m                 \u001b[1;32mexcept\u001b[0m \u001b[0mException\u001b[0m \u001b[1;32mas\u001b[0m \u001b[0me\u001b[0m\u001b[1;33m:\u001b[0m\u001b[1;33m\u001b[0m\u001b[0m\n\u001b[0;32m    385\u001b[0m                     \u001b[1;31m# Remove the TypeError from the exception chain in Python 3;\u001b[0m\u001b[1;33m\u001b[0m\u001b[1;33m\u001b[0m\u001b[0m\n",
      "\u001b[1;32mD:\\Anaconda3\\lib\\http\\client.py\u001b[0m in \u001b[0;36mgetresponse\u001b[1;34m(self)\u001b[0m\n\u001b[0;32m   1329\u001b[0m         \u001b[1;32mtry\u001b[0m\u001b[1;33m:\u001b[0m\u001b[1;33m\u001b[0m\u001b[0m\n\u001b[0;32m   1330\u001b[0m             \u001b[1;32mtry\u001b[0m\u001b[1;33m:\u001b[0m\u001b[1;33m\u001b[0m\u001b[0m\n\u001b[1;32m-> 1331\u001b[1;33m                 \u001b[0mresponse\u001b[0m\u001b[1;33m.\u001b[0m\u001b[0mbegin\u001b[0m\u001b[1;33m(\u001b[0m\u001b[1;33m)\u001b[0m\u001b[1;33m\u001b[0m\u001b[0m\n\u001b[0m\u001b[0;32m   1332\u001b[0m             \u001b[1;32mexcept\u001b[0m \u001b[0mConnectionError\u001b[0m\u001b[1;33m:\u001b[0m\u001b[1;33m\u001b[0m\u001b[0m\n\u001b[0;32m   1333\u001b[0m                 \u001b[0mself\u001b[0m\u001b[1;33m.\u001b[0m\u001b[0mclose\u001b[0m\u001b[1;33m(\u001b[0m\u001b[1;33m)\u001b[0m\u001b[1;33m\u001b[0m\u001b[0m\n",
      "\u001b[1;32mD:\\Anaconda3\\lib\\http\\client.py\u001b[0m in \u001b[0;36mbegin\u001b[1;34m(self)\u001b[0m\n\u001b[0;32m    295\u001b[0m         \u001b[1;31m# read until we get a non-100 response\u001b[0m\u001b[1;33m\u001b[0m\u001b[1;33m\u001b[0m\u001b[0m\n\u001b[0;32m    296\u001b[0m         \u001b[1;32mwhile\u001b[0m \u001b[1;32mTrue\u001b[0m\u001b[1;33m:\u001b[0m\u001b[1;33m\u001b[0m\u001b[0m\n\u001b[1;32m--> 297\u001b[1;33m             \u001b[0mversion\u001b[0m\u001b[1;33m,\u001b[0m \u001b[0mstatus\u001b[0m\u001b[1;33m,\u001b[0m \u001b[0mreason\u001b[0m \u001b[1;33m=\u001b[0m \u001b[0mself\u001b[0m\u001b[1;33m.\u001b[0m\u001b[0m_read_status\u001b[0m\u001b[1;33m(\u001b[0m\u001b[1;33m)\u001b[0m\u001b[1;33m\u001b[0m\u001b[0m\n\u001b[0m\u001b[0;32m    298\u001b[0m             \u001b[1;32mif\u001b[0m \u001b[0mstatus\u001b[0m \u001b[1;33m!=\u001b[0m \u001b[0mCONTINUE\u001b[0m\u001b[1;33m:\u001b[0m\u001b[1;33m\u001b[0m\u001b[0m\n\u001b[0;32m    299\u001b[0m                 \u001b[1;32mbreak\u001b[0m\u001b[1;33m\u001b[0m\u001b[0m\n",
      "\u001b[1;32mD:\\Anaconda3\\lib\\http\\client.py\u001b[0m in \u001b[0;36m_read_status\u001b[1;34m(self)\u001b[0m\n\u001b[0;32m    256\u001b[0m \u001b[1;33m\u001b[0m\u001b[0m\n\u001b[0;32m    257\u001b[0m     \u001b[1;32mdef\u001b[0m \u001b[0m_read_status\u001b[0m\u001b[1;33m(\u001b[0m\u001b[0mself\u001b[0m\u001b[1;33m)\u001b[0m\u001b[1;33m:\u001b[0m\u001b[1;33m\u001b[0m\u001b[0m\n\u001b[1;32m--> 258\u001b[1;33m         \u001b[0mline\u001b[0m \u001b[1;33m=\u001b[0m \u001b[0mstr\u001b[0m\u001b[1;33m(\u001b[0m\u001b[0mself\u001b[0m\u001b[1;33m.\u001b[0m\u001b[0mfp\u001b[0m\u001b[1;33m.\u001b[0m\u001b[0mreadline\u001b[0m\u001b[1;33m(\u001b[0m\u001b[0m_MAXLINE\u001b[0m \u001b[1;33m+\u001b[0m \u001b[1;36m1\u001b[0m\u001b[1;33m)\u001b[0m\u001b[1;33m,\u001b[0m \u001b[1;34m\"iso-8859-1\"\u001b[0m\u001b[1;33m)\u001b[0m\u001b[1;33m\u001b[0m\u001b[0m\n\u001b[0m\u001b[0;32m    259\u001b[0m         \u001b[1;32mif\u001b[0m \u001b[0mlen\u001b[0m\u001b[1;33m(\u001b[0m\u001b[0mline\u001b[0m\u001b[1;33m)\u001b[0m \u001b[1;33m>\u001b[0m \u001b[0m_MAXLINE\u001b[0m\u001b[1;33m:\u001b[0m\u001b[1;33m\u001b[0m\u001b[0m\n\u001b[0;32m    260\u001b[0m             \u001b[1;32mraise\u001b[0m \u001b[0mLineTooLong\u001b[0m\u001b[1;33m(\u001b[0m\u001b[1;34m\"status line\"\u001b[0m\u001b[1;33m)\u001b[0m\u001b[1;33m\u001b[0m\u001b[0m\n",
      "\u001b[1;32mD:\\Anaconda3\\lib\\socket.py\u001b[0m in \u001b[0;36mreadinto\u001b[1;34m(self, b)\u001b[0m\n\u001b[0;32m    584\u001b[0m         \u001b[1;32mwhile\u001b[0m \u001b[1;32mTrue\u001b[0m\u001b[1;33m:\u001b[0m\u001b[1;33m\u001b[0m\u001b[0m\n\u001b[0;32m    585\u001b[0m             \u001b[1;32mtry\u001b[0m\u001b[1;33m:\u001b[0m\u001b[1;33m\u001b[0m\u001b[0m\n\u001b[1;32m--> 586\u001b[1;33m                 \u001b[1;32mreturn\u001b[0m \u001b[0mself\u001b[0m\u001b[1;33m.\u001b[0m\u001b[0m_sock\u001b[0m\u001b[1;33m.\u001b[0m\u001b[0mrecv_into\u001b[0m\u001b[1;33m(\u001b[0m\u001b[0mb\u001b[0m\u001b[1;33m)\u001b[0m\u001b[1;33m\u001b[0m\u001b[0m\n\u001b[0m\u001b[0;32m    587\u001b[0m             \u001b[1;32mexcept\u001b[0m \u001b[0mtimeout\u001b[0m\u001b[1;33m:\u001b[0m\u001b[1;33m\u001b[0m\u001b[0m\n\u001b[0;32m    588\u001b[0m                 \u001b[0mself\u001b[0m\u001b[1;33m.\u001b[0m\u001b[0m_timeout_occurred\u001b[0m \u001b[1;33m=\u001b[0m \u001b[1;32mTrue\u001b[0m\u001b[1;33m\u001b[0m\u001b[0m\n",
      "\u001b[1;31mKeyboardInterrupt\u001b[0m: "
     ]
    }
   ],
   "source": [
    "#encoding=UTF-8\n",
    "import requests\n",
    "import base64\n",
    "\n",
    "def base_code(username, password):\n",
    "    str = '%s:%s' % (username, password)\n",
    "    encodestr = base64.b64encode(str.encode('utf-8'))\n",
    "    return '%s' % encodestr.decode()\n",
    "\n",
    "def q():\n",
    "    usernaem = \"dxxxhly@qq.com\"  # 您的用户名\n",
    "    password = \"455190881Lx\"  # 您的密码\n",
    "    proxy_ip = \"120.27.9.96\" # 代理ip，通过http://h.wandouip.com/get获得\n",
    "    proxy_port = \"80\"  # 代理端口号\n",
    "    head = {\n",
    "        'Proxy-Authorization': 'Basic %s' % (base_code(usernaem, password))\n",
    "    }\n",
    "    proxy = {\n",
    "        'http': 'http://%s:%s' % (proxy_ip, proxy_port),\n",
    "        'https': 'https://%s:%s' % (proxy_ip, proxy_port)\n",
    "    }\n",
    "    url = 'http://myip.ipip.net'\n",
    "    try:\n",
    "        text = requests.get(url,proxies=proxy,timeout=5,headers=head)#, proxies=proxy ,timeout=5)\n",
    "        print(text.text)\n",
    "    except Exception as e:\n",
    "        print(\"Error: \", e)\n",
    "while True:\n",
    "    q()"
   ]
  },
  {
   "cell_type": "code",
   "execution_count": 55,
   "metadata": {},
   "outputs": [
    {
     "name": "stdout",
     "output_type": "stream",
     "text": [
      "Error:  HTTPConnectionPool(host='183.129.207.74', port=14823): Read timed out. (read timeout=5)\n"
     ]
    }
   ],
   "source": [
    "import requests\n",
    "def verification(proxy_ip,proxy_port):\n",
    "    header = {\n",
    "    \"Accept\": \"text/html,application/xhtml+xml,application/xml;q=0.9,image/webp,image/apng,*/*;q=0.8\",\n",
    "    \"Accept-Encoding\": \"gzip, deflate\",\n",
    "    \"Accept-Language\": \"h-CN,zh;q=0.9\",\n",
    "    \"connection\":\"keep-alive\",\n",
    "    \"Host\": \"myip.ipip.net\",\n",
    "    \"User-Agent\": \"Mozilla/5.0 (Windows NT 6.1; WOW64) AppleWebKit/537.36 (KHTML, like Gecko) Chrome/68.0.3440.106 Safari/537.36\"\n",
    "        }\n",
    "    proxy = {\n",
    "        'http': 'http://%s:%s' % (proxy_ip, proxy_port),\n",
    "        'https': 'https://%s:%s' % (proxy_ip, proxy_port)\n",
    "    }\n",
    "    url = 'http://myip.ipip.net'\n",
    "    try:\n",
    "        text = requests.get(url,headers=header, proxies=proxy,timeout=5)\n",
    "        print(text.text)\n",
    "        if len(text.text)<100:\n",
    "            return (proxy_ip,proxy_port)\n",
    "    except Exception as e:\n",
    "        print(\"Error: \", e)\n"
   ]
  },
  {
   "cell_type": "code",
   "execution_count": 56,
   "metadata": {},
   "outputs": [
    {
     "name": "stdout",
     "output_type": "stream",
     "text": [
      "Error:  HTTPConnectionPool(host='123.207.237.42', port=3128): Max retries exceeded with url: http://myip.ipip.net/ (Caused by ConnectTimeoutError(<urllib3.connection.HTTPConnection object at 0x0000000007AE7A58>, 'Connection to 123.207.237.42 timed out. (connect timeout=5)'))\n",
      "当前 IP：118.190.95.35  来自于：中国 山东 青岛  阿里云/电信/联通/移动/铁通/教育网\n",
      "\n",
      "当前 IP：222.76.204.110  来自于：中国 福建 厦门  电信\n",
      "\n",
      "当前 IP：111.72.155.7  来自于：中国 江西 宜春  电信\n",
      "\n",
      "Error:  HTTPConnectionPool(host='116.1.11.19', port=80): Max retries exceeded with url: http://myip.ipip.net/ (Caused by ConnectTimeoutError(<urllib3.connection.HTTPConnection object at 0x00000000056624A8>, 'Connection to 116.1.11.19 timed out. (connect timeout=5)'))\n",
      "Error:  HTTPConnectionPool(host='58.51.83.102', port=808): Max retries exceeded with url: http://myip.ipip.net/ (Caused by ProxyError('Cannot connect to proxy.', ConnectionResetError(10054, '远程主机强迫关闭了一个现有的连接。', None, 10054, None)))\n",
      "当前 IP：211.159.171.58  来自于：中国 北京 北京  电信/联通/移动\n",
      "\n",
      "<h1>Not Found</h1>The requested URL http://myip.ipip.net/ was not found on this server.\n",
      "当前 IP：118.190.95.43  来自于：中国 山东 青岛  阿里云/电信/联通/移动/铁通/教育网\n",
      "\n"
     ]
    }
   ],
   "source": [
    "with open(\"e:/wenpeiyu/proxy.txt\", \"r\") as f:\n",
    "    a = f.readlines()\n",
    "\n",
    "for i in set(a):\n",
    "    eval(\"verification\"+i[:-1])"
   ]
  },
  {
   "cell_type": "code",
   "execution_count": 67,
   "metadata": {},
   "outputs": [
    {
     "name": "stdout",
     "output_type": "stream",
     "text": [
      "当前 IP：123.207.237.42  来自于：中国 广东 广州  电信/联通/移动\n",
      "\n"
     ]
    },
    {
     "data": {
      "text/plain": [
       "('123.207.237.42', '3128')"
      ]
     },
     "execution_count": 67,
     "metadata": {},
     "output_type": "execute_result"
    }
   ],
   "source": [
    "verification('123.207.237.42', '3128')"
   ]
  },
  {
   "cell_type": "code",
   "execution_count": null,
   "metadata": {},
   "outputs": [],
   "source": []
  }
 ],
 "metadata": {
  "kernelspec": {
   "display_name": "Python 3",
   "language": "python",
   "name": "python3"
  },
  "language_info": {
   "codemirror_mode": {
    "name": "ipython",
    "version": 3
   },
   "file_extension": ".py",
   "mimetype": "text/x-python",
   "name": "python",
   "nbconvert_exporter": "python",
   "pygments_lexer": "ipython3",
   "version": "3.6.5"
  }
 },
 "nbformat": 4,
 "nbformat_minor": 2
}
